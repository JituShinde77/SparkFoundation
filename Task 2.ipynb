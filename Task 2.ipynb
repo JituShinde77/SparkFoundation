{
 "cells": [
  {
   "cell_type": "markdown",
   "metadata": {},
   "source": [
    "## Task 2\n",
    "From given data predict the Predict Student Score of 9.25 hrs study."
   ]
  },
  {
   "cell_type": "code",
   "execution_count": 1,
   "metadata": {},
   "outputs": [],
   "source": [
    "import pandas as pd\n",
    "import matplotlib.pyplot as plt\n",
    "import numpy as np\n"
   ]
  },
  {
   "cell_type": "code",
   "execution_count": 2,
   "metadata": {},
   "outputs": [
    {
     "data": {
      "text/html": [
       "<div>\n",
       "<style scoped>\n",
       "    .dataframe tbody tr th:only-of-type {\n",
       "        vertical-align: middle;\n",
       "    }\n",
       "\n",
       "    .dataframe tbody tr th {\n",
       "        vertical-align: top;\n",
       "    }\n",
       "\n",
       "    .dataframe thead th {\n",
       "        text-align: right;\n",
       "    }\n",
       "</style>\n",
       "<table border=\"1\" class=\"dataframe\">\n",
       "  <thead>\n",
       "    <tr style=\"text-align: right;\">\n",
       "      <th></th>\n",
       "      <th>Hours</th>\n",
       "      <th>Scores</th>\n",
       "    </tr>\n",
       "  </thead>\n",
       "  <tbody>\n",
       "    <tr>\n",
       "      <td>0</td>\n",
       "      <td>2.5</td>\n",
       "      <td>21</td>\n",
       "    </tr>\n",
       "    <tr>\n",
       "      <td>1</td>\n",
       "      <td>5.1</td>\n",
       "      <td>47</td>\n",
       "    </tr>\n",
       "    <tr>\n",
       "      <td>2</td>\n",
       "      <td>3.2</td>\n",
       "      <td>27</td>\n",
       "    </tr>\n",
       "    <tr>\n",
       "      <td>3</td>\n",
       "      <td>8.5</td>\n",
       "      <td>75</td>\n",
       "    </tr>\n",
       "    <tr>\n",
       "      <td>4</td>\n",
       "      <td>3.5</td>\n",
       "      <td>30</td>\n",
       "    </tr>\n",
       "    <tr>\n",
       "      <td>5</td>\n",
       "      <td>1.5</td>\n",
       "      <td>20</td>\n",
       "    </tr>\n",
       "    <tr>\n",
       "      <td>6</td>\n",
       "      <td>9.2</td>\n",
       "      <td>88</td>\n",
       "    </tr>\n",
       "    <tr>\n",
       "      <td>7</td>\n",
       "      <td>5.5</td>\n",
       "      <td>60</td>\n",
       "    </tr>\n",
       "    <tr>\n",
       "      <td>8</td>\n",
       "      <td>8.3</td>\n",
       "      <td>81</td>\n",
       "    </tr>\n",
       "    <tr>\n",
       "      <td>9</td>\n",
       "      <td>2.7</td>\n",
       "      <td>25</td>\n",
       "    </tr>\n",
       "    <tr>\n",
       "      <td>10</td>\n",
       "      <td>7.7</td>\n",
       "      <td>85</td>\n",
       "    </tr>\n",
       "    <tr>\n",
       "      <td>11</td>\n",
       "      <td>5.9</td>\n",
       "      <td>62</td>\n",
       "    </tr>\n",
       "    <tr>\n",
       "      <td>12</td>\n",
       "      <td>4.5</td>\n",
       "      <td>41</td>\n",
       "    </tr>\n",
       "    <tr>\n",
       "      <td>13</td>\n",
       "      <td>3.3</td>\n",
       "      <td>42</td>\n",
       "    </tr>\n",
       "    <tr>\n",
       "      <td>14</td>\n",
       "      <td>1.1</td>\n",
       "      <td>17</td>\n",
       "    </tr>\n",
       "    <tr>\n",
       "      <td>15</td>\n",
       "      <td>8.9</td>\n",
       "      <td>95</td>\n",
       "    </tr>\n",
       "    <tr>\n",
       "      <td>16</td>\n",
       "      <td>2.5</td>\n",
       "      <td>30</td>\n",
       "    </tr>\n",
       "    <tr>\n",
       "      <td>17</td>\n",
       "      <td>1.9</td>\n",
       "      <td>24</td>\n",
       "    </tr>\n",
       "    <tr>\n",
       "      <td>18</td>\n",
       "      <td>6.1</td>\n",
       "      <td>67</td>\n",
       "    </tr>\n",
       "    <tr>\n",
       "      <td>19</td>\n",
       "      <td>7.4</td>\n",
       "      <td>69</td>\n",
       "    </tr>\n",
       "    <tr>\n",
       "      <td>20</td>\n",
       "      <td>2.7</td>\n",
       "      <td>30</td>\n",
       "    </tr>\n",
       "    <tr>\n",
       "      <td>21</td>\n",
       "      <td>4.8</td>\n",
       "      <td>54</td>\n",
       "    </tr>\n",
       "    <tr>\n",
       "      <td>22</td>\n",
       "      <td>3.8</td>\n",
       "      <td>35</td>\n",
       "    </tr>\n",
       "    <tr>\n",
       "      <td>23</td>\n",
       "      <td>6.9</td>\n",
       "      <td>76</td>\n",
       "    </tr>\n",
       "    <tr>\n",
       "      <td>24</td>\n",
       "      <td>7.8</td>\n",
       "      <td>86</td>\n",
       "    </tr>\n",
       "  </tbody>\n",
       "</table>\n",
       "</div>"
      ],
      "text/plain": [
       "    Hours  Scores\n",
       "0     2.5      21\n",
       "1     5.1      47\n",
       "2     3.2      27\n",
       "3     8.5      75\n",
       "4     3.5      30\n",
       "5     1.5      20\n",
       "6     9.2      88\n",
       "7     5.5      60\n",
       "8     8.3      81\n",
       "9     2.7      25\n",
       "10    7.7      85\n",
       "11    5.9      62\n",
       "12    4.5      41\n",
       "13    3.3      42\n",
       "14    1.1      17\n",
       "15    8.9      95\n",
       "16    2.5      30\n",
       "17    1.9      24\n",
       "18    6.1      67\n",
       "19    7.4      69\n",
       "20    2.7      30\n",
       "21    4.8      54\n",
       "22    3.8      35\n",
       "23    6.9      76\n",
       "24    7.8      86"
      ]
     },
     "execution_count": 2,
     "metadata": {},
     "output_type": "execute_result"
    }
   ],
   "source": [
    "df = pd.read_csv('student_scores - student_scores.csv', sep=',')\n",
    "df\n"
   ]
  },
  {
   "cell_type": "code",
   "execution_count": 3,
   "metadata": {},
   "outputs": [
    {
     "data": {
      "text/plain": [
       "(25, 2)"
      ]
     },
     "execution_count": 3,
     "metadata": {},
     "output_type": "execute_result"
    }
   ],
   "source": [
    "df.shape"
   ]
  },
  {
   "cell_type": "code",
   "execution_count": 4,
   "metadata": {},
   "outputs": [
    {
     "data": {
      "image/png": "[encoded data removed]",
      "text/plain": [
       "<Figure size 432x288 with 1 Axes>"
      ]
     },
     "metadata": {
      "needs_background": "light"
     },
     "output_type": "display_data"
    }
   ],
   "source": [
    "plt.scatter(df.Hours, df.Scores)\n",
    "plt.xlabel('Hours of Study')\n",
    "plt.ylabel('Score')\n",
    "plt.title('Study hours and scroe scatter graph')\n",
    "plt.show()"
   ]
  },
  {
   "cell_type": "code",
   "execution_count": 5,
   "metadata": {},
   "outputs": [
    {
     "name": "stdout",
     "output_type": "stream",
     "text": [
      "<class 'numpy.ndarray'>\n",
      "<class 'numpy.ndarray'>\n"
     ]
    }
   ],
   "source": [
    "X = np.array(df.Hours)\n",
    "y = np.array(df.Scores)\n",
    "print (type(X))\n",
    "print (type(y))"
   ]
  },
  {
   "cell_type": "markdown",
   "metadata": {},
   "source": [
    "## Solution First Using fit a line using Python without any library\n",
    "__Find a best fit line__\n",
    "\n",
    "    ypred = mx + c\n",
    "    m = slop\n",
    "    c = intercept\n"
   ]
  },
  {
   "cell_type": "code",
   "execution_count": 6,
   "metadata": {},
   "outputs": [],
   "source": [
    "def pred(m, X, c):\n",
    "    return m*X + c\n",
    "    "
   ]
  },
  {
   "cell_type": "code",
   "execution_count": 7,
   "metadata": {},
   "outputs": [],
   "source": [
    "def error(m, c, X, y):\n",
    "    ypred = m*X + c\n",
    "    err = ypred - y\n",
    "    return np.sum(err * err)  / len(X)"
   ]
  },
  {
   "cell_type": "code",
   "execution_count": 8,
   "metadata": {},
   "outputs": [],
   "source": [
    "# Make some small change in m and c check the erro\n",
    "def diffP(fn, idx, *args):\n",
    "    \n",
    "    delta = 0.000000000001\n",
    "    y = fn(*args)\n",
    "    args = list(args)\n",
    "    args[idx] += delta\n",
    "    y1 = fn(*args)\n",
    "    \n",
    "    return (y1 - y) / delta\n",
    "    "
   ]
  },
  {
   "cell_type": "markdown",
   "metadata": {},
   "source": [
    "## Gradient Discent "
   ]
  },
  {
   "cell_type": "code",
   "execution_count": 9,
   "metadata": {},
   "outputs": [],
   "source": [
    "def grad_fit(X, y):\n",
    "    \n",
    "    m = np.random.random() \n",
    "    c = np.random.random()\n",
    "    learning_rate = 0.001\n",
    "    for i in range(100):\n",
    "        print (\"Epoch \", i, ': Error:', error(m, c, X, y))\n",
    "        dE_dm = diffP(error, 0, m, c, X, y)\n",
    "        dE_dc = diffP(error, 1, m, c, X, y)\n",
    "        \n",
    "        m = m - learning_rate * dE_dm\n",
    "        c = c - learning_rate * dE_dc\n",
    "        \n",
    "    return (m, c)"
   ]
  },
  {
   "cell_type": "code",
   "execution_count": 10,
   "metadata": {},
   "outputs": [
    {
     "name": "stdout",
     "output_type": "stream",
     "text": [
      "Epoch  0 : Error: 3035.621950286757\n",
      "Epoch  1 : Error: 2662.4930619649203\n",
      "Epoch  2 : Error: 2336.0601527616277\n",
      "Epoch  3 : Error: 2049.93542268968\n",
      "Epoch  4 : Error: 1799.1280037648453\n",
      "Epoch  5 : Error: 1579.2630445534603\n",
      "Epoch  6 : Error: 1386.7303150998441\n",
      "Epoch  7 : Error: 1218.3739874610997\n",
      "Epoch  8 : Error: 1070.8071395691245\n",
      "Epoch  9 : Error: 941.4037284903529\n",
      "Epoch  10 : Error: 828.199391527515\n",
      "Epoch  11 : Error: 729.0258681709104\n",
      "Epoch  12 : Error: 642.1229698784533\n",
      "Epoch  13 : Error: 566.0505280925036\n",
      "Epoch  14 : Error: 499.4062891210278\n",
      "Epoch  15 : Error: 441.0191377941253\n",
      "Epoch  16 : Error: 389.84603195962586\n",
      "Epoch  17 : Error: 345.04838832072824\n",
      "Epoch  18 : Error: 305.8265455549645\n",
      "Epoch  19 : Error: 271.4735299281164\n",
      "Epoch  20 : Error: 241.36434968106062\n",
      "Epoch  21 : Error: 214.99425837228466\n",
      "Epoch  22 : Error: 191.903228922487\n",
      "Epoch  23 : Error: 171.67010255861757\n",
      "Epoch  24 : Error: 153.95245763251376\n",
      "Epoch  25 : Error: 138.43239462965855\n",
      "Epoch  26 : Error: 124.83881338152126\n",
      "Epoch  27 : Error: 112.93255483796605\n",
      "Epoch  28 : Error: 102.49976611575936\n",
      "Epoch  29 : Error: 93.36553108425585\n",
      "Epoch  30 : Error: 85.36539501626461\n",
      "Epoch  31 : Error: 78.35707287306653\n",
      "Epoch  32 : Error: 72.21875193018417\n",
      "Epoch  33 : Error: 66.84240502185548\n",
      "Epoch  34 : Error: 62.13346772254784\n",
      "Epoch  35 : Error: 58.00919174635402\n",
      "Epoch  36 : Error: 54.396160555092145\n",
      "Epoch  37 : Error: 51.232383007364106\n",
      "Epoch  38 : Error: 48.46140715336717\n",
      "Epoch  39 : Error: 46.034809686671416\n",
      "Epoch  40 : Error: 43.90952321179046\n",
      "Epoch  41 : Error: 42.047577521794274\n",
      "Epoch  42 : Error: 40.41707575646549\n",
      "Epoch  43 : Error: 38.989031349988\n",
      "Epoch  44 : Error: 37.73769825534827\n",
      "Epoch  45 : Error: 36.641847900511905\n",
      "Epoch  46 : Error: 35.68184544261395\n",
      "Epoch  47 : Error: 34.8411123659628\n",
      "Epoch  48 : Error: 34.10501378874214\n",
      "Epoch  49 : Error: 33.459943028591844\n",
      "Epoch  50 : Error: 32.89491606223005\n",
      "Epoch  51 : Error: 32.40016952059977\n",
      "Epoch  52 : Error: 31.966924901071852\n",
      "Epoch  53 : Error: 31.587305352113404\n",
      "Epoch  54 : Error: 31.254937694147223\n",
      "Epoch  55 : Error: 30.963838749607774\n",
      "Epoch  56 : Error: 30.708852656310054\n",
      "Epoch  57 : Error: 30.485516000291163\n",
      "Epoch  58 : Error: 30.28985494982279\n",
      "Epoch  59 : Error: 30.11845865989803\n",
      "Epoch  60 : Error: 29.968426748673068\n",
      "Epoch  61 : Error: 29.837022493096093\n",
      "Epoch  62 : Error: 29.721894825178307\n",
      "Epoch  63 : Error: 29.620963964747023\n",
      "Epoch  64 : Error: 29.532641088247075\n",
      "Epoch  65 : Error: 29.45519723401591\n",
      "Epoch  66 : Error: 29.387385664626837\n",
      "Epoch  67 : Error: 29.32796226022318\n",
      "Epoch  68 : Error: 29.275951585635816\n",
      "Epoch  69 : Error: 29.230356338321826\n",
      "Epoch  70 : Error: 29.190466672797367\n",
      "Epoch  71 : Error: 29.15549574906676\n",
      "Epoch  72 : Error: 29.124903847636492\n",
      "Epoch  73 : Error: 29.098088134519454\n",
      "Epoch  74 : Error: 29.074617150764897\n",
      "Epoch  75 : Error: 29.054050395610844\n",
      "Epoch  76 : Error: 29.03604779961272\n",
      "Epoch  77 : Error: 29.0202854260236\n",
      "Epoch  78 : Error: 29.00647595626382\n",
      "Epoch  79 : Error: 28.994367486553443\n",
      "Epoch  80 : Error: 28.983782485841324\n",
      "Epoch  81 : Error: 28.97451413239542\n",
      "Epoch  82 : Error: 28.966382454261947\n",
      "Epoch  83 : Error: 28.959268545175437\n",
      "Epoch  84 : Error: 28.953035993778293\n",
      "Epoch  85 : Error: 28.947575339559535\n",
      "Epoch  86 : Error: 28.942787510426847\n",
      "Epoch  87 : Error: 28.93859779085301\n",
      "Epoch  88 : Error: 28.934924830970676\n",
      "Epoch  89 : Error: 28.931707233556452\n",
      "Epoch  90 : Error: 28.92889002648365\n",
      "Epoch  91 : Error: 28.92640738323332\n",
      "Epoch  92 : Error: 28.92424400500524\n",
      "Epoch  93 : Error: 28.922342252167464\n",
      "Epoch  94 : Error: 28.920683602052545\n",
      "Epoch  95 : Error: 28.919223052045357\n",
      "Epoch  96 : Error: 28.91793948656186\n",
      "Epoch  97 : Error: 28.916814020234693\n",
      "Epoch  98 : Error: 28.91582689343621\n",
      "Epoch  99 : Error: 28.914954885575106\n"
     ]
    }
   ],
   "source": [
    "m, c = grad_fit(X, y)"
   ]
  },
  {
   "cell_type": "code",
   "execution_count": 11,
   "metadata": {},
   "outputs": [
    {
     "name": "stdout",
     "output_type": "stream",
     "text": [
      "9.82239380679338 2.115362615360149\n"
     ]
    }
   ],
   "source": [
    "#9.811892619070575 2.2590012320254607\n",
    "# 28.900686811284576\n",
    "print (m, c)"
   ]
  },
  {
   "cell_type": "code",
   "execution_count": 12,
   "metadata": {},
   "outputs": [
    {
     "name": "stderr",
     "output_type": "stream",
     "text": [
      "c:\\users\\jit\\appdata\\local\\programs\\python\\python37\\lib\\site-packages\\ipykernel_launcher.py:12: MatplotlibDeprecationWarning: Adding an axes using the same arguments as a previous axes currently reuses the earlier instance.  In a future version, a new instance will always be created and returned.  Meanwhile, this warning can be suppressed, and the future behavior ensured, by passing a unique label to each axes instance.\n",
      "  if sys.path[0] == '':\n"
     ]
    },
    {
     "data": {
      "image/png": "[encoded data removed]",
      "text/plain": [
       "<Figure size 792x288 with 1 Axes>"
      ]
     },
     "metadata": {
      "needs_background": "light"
     },
     "output_type": "display_data"
    }
   ],
   "source": [
    "x1 = 0\n",
    "x2 = 10\n",
    "\n",
    "y1 = m*x1 + c\n",
    "y2 = m*x2 + c\n",
    "\n",
    "ycap = m*X + c\n",
    "plt.figure(figsize=(11, 4))\n",
    "plt.subplot()\n",
    "\n",
    "plt.plot([x1, x2], [y1, y2], color = 'r')\n",
    "plt.subplot()\n",
    "plt.scatter(X, y, color='b')\n",
    "plt.show()"
   ]
  },
  {
   "cell_type": "code",
   "execution_count": 13,
   "metadata": {},
   "outputs": [
    {
     "data": {
      "text/plain": [
       "92.97250532819892"
      ]
     },
     "execution_count": 13,
     "metadata": {},
     "output_type": "execute_result"
    }
   ],
   "source": [
    "pred(m, 9.25, c)"
   ]
  },
  {
   "cell_type": "markdown",
   "metadata": {},
   "source": [
    "## SKLern Regression"
   ]
  },
  {
   "cell_type": "code",
   "execution_count": 14,
   "metadata": {},
   "outputs": [],
   "source": [
    "from sklearn.linear_model import LinearRegression\n"
   ]
  },
  {
   "cell_type": "code",
   "execution_count": 15,
   "metadata": {},
   "outputs": [
    {
     "data": {
      "text/plain": [
       "LinearRegression()"
      ]
     },
     "execution_count": 15,
     "metadata": {},
     "output_type": "execute_result"
    }
   ],
   "source": [
    "lm = LinearRegression()\n",
    "lm.fit(X.reshape(-1, 1), y)\n",
    "\n"
   ]
  },
  {
   "cell_type": "code",
   "execution_count": 16,
   "metadata": {},
   "outputs": [
    {
     "data": {
      "text/plain": [
       "28.882730509245466"
      ]
     },
     "execution_count": 16,
     "metadata": {},
     "output_type": "execute_result"
    }
   ],
   "source": [
    "ypred = lm.predict(X.reshape(-1, 1))\n",
    "err = ypred - y\n",
    "np.sum(err * err)  / len(X)"
   ]
  },
  {
   "cell_type": "code",
   "execution_count": 17,
   "metadata": {},
   "outputs": [
    {
     "data": {
      "text/plain": [
       "array([9.77580339])"
      ]
     },
     "execution_count": 17,
     "metadata": {},
     "output_type": "execute_result"
    }
   ],
   "source": [
    "lm.coef_"
   ]
  },
  {
   "cell_type": "code",
   "execution_count": 18,
   "metadata": {},
   "outputs": [
    {
     "data": {
      "text/plain": [
       "2.48367340537321"
      ]
     },
     "execution_count": 18,
     "metadata": {},
     "output_type": "execute_result"
    }
   ],
   "source": [
    "lm.intercept_"
   ]
  },
  {
   "cell_type": "code",
   "execution_count": 21,
   "metadata": {},
   "outputs": [
    {
     "name": "stderr",
     "output_type": "stream",
     "text": [
      "c:\\users\\jit\\appdata\\local\\programs\\python\\python37\\lib\\site-packages\\ipykernel_launcher.py:12: MatplotlibDeprecationWarning: Adding an axes using the same arguments as a previous axes currently reuses the earlier instance.  In a future version, a new instance will always be created and returned.  Meanwhile, this warning can be suppressed, and the future behavior ensured, by passing a unique label to each axes instance.\n",
      "  if sys.path[0] == '':\n"
     ]
    },
    {
     "data": {
      "image/png": "[encoded data removed]",
      "text/plain": [
       "<Figure size 792x288 with 1 Axes>"
      ]
     },
     "metadata": {
      "needs_background": "light"
     },
     "output_type": "display_data"
    }
   ],
   "source": [
    "x1 = 0\n",
    "x2 = 10\n",
    "\n",
    "y1 = lm.coef_*x1 + lm.intercept_\n",
    "y2 = lm.coef_*x2 + lm.intercept_\n",
    "\n",
    "ycap = lm.coef_*X + lm.intercept_\n",
    "plt.figure(figsize=(11, 4))\n",
    "plt.subplot()\n",
    "\n",
    "plt.plot([x1, x2], [y1, y2], color = 'r')\n",
    "plt.subplot()\n",
    "plt.xlabel('No of Hours')\n",
    "plt.scatter(X, y, color='b')\n",
    "plt.ylabel(\"Score\")\n",
    "plt.show()"
   ]
  },
  {
   "cell_type": "code",
   "execution_count": 22,
   "metadata": {},
   "outputs": [
    {
     "data": {
      "text/plain": [
       "array([92.90985477])"
      ]
     },
     "execution_count": 22,
     "metadata": {},
     "output_type": "execute_result"
    }
   ],
   "source": [
    "lm.predict(np.array([9.25]).reshape(-1, 1))"
   ]
  },
  {
   "cell_type": "markdown",
   "metadata": {},
   "source": [
    "## Sklearn SGDRegressor"
   ]
  },
  {
   "cell_type": "code",
   "execution_count": 23,
   "metadata": {},
   "outputs": [
    {
     "data": {
      "text/plain": [
       "SGDRegressor()"
      ]
     },
     "execution_count": 23,
     "metadata": {},
     "output_type": "execute_result"
    }
   ],
   "source": [
    "from sklearn.linear_model import SGDRegressor\n",
    "\n",
    "model = SGDRegressor()\n",
    "model.fit(X.reshape(-1, 1), y)"
   ]
  },
  {
   "cell_type": "code",
   "execution_count": 24,
   "metadata": {},
   "outputs": [
    {
     "data": {
      "text/plain": [
       "array([10.05059943])"
      ]
     },
     "execution_count": 24,
     "metadata": {},
     "output_type": "execute_result"
    }
   ],
   "source": [
    "model.coef_"
   ]
  },
  {
   "cell_type": "code",
   "execution_count": 26,
   "metadata": {},
   "outputs": [
    {
     "data": {
      "text/plain": [
       "29.438213551991716"
      ]
     },
     "execution_count": 26,
     "metadata": {},
     "output_type": "execute_result"
    }
   ],
   "source": [
    "\n",
    "ypred = model.predict(X.reshape(-1, 1))\n",
    "err = ypred - y\n",
    "np.sum(err * err)  / len(X)"
   ]
  },
  {
   "cell_type": "code",
   "execution_count": 27,
   "metadata": {},
   "outputs": [
    {
     "name": "stderr",
     "output_type": "stream",
     "text": [
      "c:\\users\\jit\\appdata\\local\\programs\\python\\python37\\lib\\site-packages\\ipykernel_launcher.py:12: MatplotlibDeprecationWarning: Adding an axes using the same arguments as a previous axes currently reuses the earlier instance.  In a future version, a new instance will always be created and returned.  Meanwhile, this warning can be suppressed, and the future behavior ensured, by passing a unique label to each axes instance.\n",
      "  if sys.path[0] == '':\n"
     ]
    },
    {
     "data": {
      "image/png": "[encoded data removed]",
      "text/plain": [
       "<Figure size 792x288 with 1 Axes>"
      ]
     },
     "metadata": {
      "needs_background": "light"
     },
     "output_type": "display_data"
    }
   ],
   "source": [
    "x1 = 0\n",
    "x2 = 10\n",
    "\n",
    "y1 = model.coef_*x1 + model.intercept_\n",
    "y2 = model.coef_*x2 + model.intercept_\n",
    "\n",
    "ycap = model.coef_*X + model.intercept_\n",
    "plt.figure(figsize=(11, 4))\n",
    "plt.subplot()\n",
    "\n",
    "plt.plot([x1, x2], [y1, y2], color = 'r')\n",
    "plt.subplot()\n",
    "plt.xlabel('No of Hours')\n",
    "plt.scatter(X, y, color='b')\n",
    "plt.ylabel(\"Score\")\n",
    "plt.show()"
   ]
  },
  {
   "cell_type": "code",
   "execution_count": 28,
   "metadata": {},
   "outputs": [
    {
     "data": {
      "text/plain": [
       "array([94.37983288])"
      ]
     },
     "execution_count": 28,
     "metadata": {},
     "output_type": "execute_result"
    }
   ],
   "source": [
    "model.predict(np.array([9.25]).reshape(-1, 1))"
   ]
  },
  {
   "cell_type": "markdown",
   "metadata": {},
   "source": [
    "## Result"
   ]
  },
  {
   "cell_type": "code",
   "execution_count": 29,
   "metadata": {},
   "outputs": [
    {
     "name": "stdout",
     "output_type": "stream",
     "text": [
      "+---------------------------+-------+-----------------+\n",
      "|           Model           |  MSE  | Prediction 9.25 |\n",
      "+---------------------------+-------+-----------------+\n",
      "|      Gradient Descent     | 28.91 |      92.97      |\n",
      "| SKLearn Linear Regression | 28.88 |       92.9      |\n",
      "|       SGD Regressor       | 29.43 |      94.37      |\n",
      "+---------------------------+-------+-----------------+\n"
     ]
    }
   ],
   "source": [
    "from prettytable import PrettyTable\n",
    "\n",
    "x = PrettyTable()\n",
    "x.field_names = ['Model', 'MSE', 'Prediction 9.25']\n",
    "\n",
    "x.add_row(['Gradient Descent', 28.91, 92.97])\n",
    "x.add_row(['SKLearn Linear Regression', 28.88, 92.90])\n",
    "x.add_row(['SGD Regressor', 29.43, 94.37])\n",
    "\n",
    "print (x)"
   ]
  },
  {
   "cell_type": "code",
   "execution_count": null,
   "metadata": {},
   "outputs": [],
   "source": []
  }
 ],
 "metadata": {
  "kernelspec": {
   "display_name": "Python 3",
   "language": "python",
   "name": "python3"
  },
  "language_info": {
   "codemirror_mode": {
    "name": "ipython",
    "version": 3
   },
   "file_extension": ".py",
   "mimetype": "text/x-python",
   "name": "python",
   "nbconvert_exporter": "python",
   "pygments_lexer": "ipython3",
   "version": "3.7.8"
  }
 },
 "nbformat": 4,
 "nbformat_minor": 2
}
